{
 "cells": [
  {
   "cell_type": "markdown",
   "metadata": {},
   "source": [
    "# K.Tarun-221710313023"
   ]
  },
  {
   "cell_type": "code",
   "execution_count": 2,
   "metadata": {},
   "outputs": [
    {
     "name": "stdout",
     "output_type": "stream",
     "text": [
      "['?', '?', '?', '?', '?']\n",
      "Lives left:❤❤❤❤❤❤❤❤❤\n",
      "Guess a letter or the word:pista\n",
      "Incorrect. You lose a life.\n",
      "['?', '?', '?', '?', '?']\n",
      "Lives left:❤❤❤❤❤❤❤❤\n",
      "Guess a letter or the word:fairy\n",
      "Incorrect. You lose a life.\n",
      "['?', '?', '?', '?', '?']\n",
      "Lives left:❤❤❤❤❤❤❤\n",
      "Guess a letter or the word:pistaa\n",
      "Incorrect. You lose a life.\n",
      "['?', '?', '?', '?', '?']\n",
      "Lives left:❤❤❤❤❤❤\n",
      "Guess a letter or the word:plane\n",
      "Incorrect. You lose a life.\n",
      "['?', '?', '?', '?', '?']\n",
      "Lives left:❤❤❤❤❤\n",
      "Guess a letter or the word:teeth\n",
      "You guessed correctly! The secret word wasteeth\n"
     ]
    }
   ],
   "source": [
    "import random\n",
    "\n",
    "lives=9\n",
    "\n",
    "words = ['pistaa','fairy','teeth','shirt','otter','plane']\n",
    "\n",
    "secretword=random.choice(words)\n",
    "\n",
    "clue=list('?????')\n",
    "\n",
    "heart_symbol= u'\\u2764'\n",
    "\n",
    "guessed_word_correctly=False\n",
    "\n",
    "def update_clue(guessed_letter, secretword,clue):\n",
    "    index=0\n",
    "    while index < len(secretword):\n",
    "        if guessed_letter == secretword[index]:\n",
    "            clue[index]=guessed_letter\n",
    "            index=index+1\n",
    "        \n",
    "while lives>0:\n",
    "    print(clue)\n",
    "    print('Lives left:' + heart_symbol * lives)\n",
    "    guess = input('Guess a letter or the word:')\n",
    "    if guess == secretword:\n",
    "        guessed_word_correctly= True\n",
    "        break\n",
    "    if guess in secretword:\n",
    "        update_clue(guess,secretword, clue)\n",
    "    else:\n",
    "        print('Incorrect. You lose a life.')\n",
    "    lives= lives-1\n",
    "if guessed_word_correctly:\n",
    "    print('You guessed correctly! The secret word was' + secretword)\n",
    "else:\n",
    "    print('You lost! The secret word was ' + secretword)"
   ]
  },
  {
   "cell_type": "code",
   "execution_count": null,
   "metadata": {},
   "outputs": [],
   "source": []
  },
  {
   "cell_type": "code",
   "execution_count": null,
   "metadata": {},
   "outputs": [],
   "source": []
  }
 ],
 "metadata": {
  "kernelspec": {
   "display_name": "Python 3",
   "language": "python",
   "name": "python3"
  },
  "language_info": {
   "codemirror_mode": {
    "name": "ipython",
    "version": 3
   },
   "file_extension": ".py",
   "mimetype": "text/x-python",
   "name": "python",
   "nbconvert_exporter": "python",
   "pygments_lexer": "ipython3",
   "version": "3.7.4"
  }
 },
 "nbformat": 4,
 "nbformat_minor": 2
}
