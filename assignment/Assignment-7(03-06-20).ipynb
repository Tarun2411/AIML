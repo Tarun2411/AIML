{
 "cells": [
  {
   "cell_type": "markdown",
   "metadata": {},
   "source": [
    "# CSE-221710313023-Killani Tarun\n"
   ]
  },
  {
   "cell_type": "markdown",
   "metadata": {},
   "source": [
    "```1.Print the contents of a file line by line putting a line number for each line.``` "
   ]
  },
  {
   "cell_type": "code",
   "execution_count": 3,
   "metadata": {
    "scrolled": true
   },
   "outputs": [
    {
     "name": "stdout",
     "output_type": "stream",
     "text": [
      "1 .  Hello everyone this is for assignment purpose\n",
      "\n",
      "2 .  counting number of lines words letters\n"
     ]
    }
   ],
   "source": [
    "with open(\"test.txt\",\"r\") as f:\n",
    "    i=1\n",
    "    for line in f:\n",
    "        print(i,\". \",line)\n",
    "        i+=1"
   ]
  },
  {
   "cell_type": "markdown",
   "metadata": {},
   "source": [
    "```2.  Copy the contents of a text file into another, printing the reversed version of each input line```"
   ]
  },
  {
   "cell_type": "code",
   "execution_count": 5,
   "metadata": {},
   "outputs": [],
   "source": [
    "with open(\"test.txt\",\"r\") as f:\n",
    "    with open(\"test1.txt\",\"w\") as f1:     #copying contents\n",
    "        for line in f:\n",
    "            f1.write(line)"
   ]
  },
  {
   "cell_type": "code",
   "execution_count": 6,
   "metadata": {},
   "outputs": [
    {
     "name": "stdout",
     "output_type": "stream",
     "text": [
      "\n",
      "esoprup tnemngissa rof si siht enoyreve olleH\n",
      "srettel sdrow senil fo rebmun gnitnuoc\n"
     ]
    }
   ],
   "source": [
    " with open(\"test1.txt\",\"r\") as f1:\n",
    "        for line in f1:                    #displaying contents in reverse order\n",
    "            print(line[::-1])"
   ]
  },
  {
   "cell_type": "markdown",
   "metadata": {},
   "source": [
    "```3. Function to find duplicates in lists```"
   ]
  },
  {
   "cell_type": "code",
   "execution_count": 8,
   "metadata": {},
   "outputs": [
    {
     "name": "stdout",
     "output_type": "stream",
     "text": [
      "True\n",
      "[1, 2, 3, 4]\n"
     ]
    }
   ],
   "source": [
    "def duplicate(l):\n",
    "    for i in l:\n",
    "        if(l.count(i)>1):\n",
    "            return True\n",
    "            break\n",
    "        else:\n",
    "            continue\n",
    "    return False\n",
    "def removed(f):\n",
    "    for i in l:\n",
    "        if i not in li:\n",
    "            li.append(i)\n",
    "    return li\n",
    "l = [1,2,3,4,2]\n",
    "li= []\n",
    "f = (duplicate(l))\n",
    "print(f)\n",
    "if(f == True):\n",
    "    print(removed(l))"
   ]
  },
  {
   "cell_type": "markdown",
   "metadata": {},
   "source": [
    "```4. Develop a package for fractions. Develop a module that performs operations on fractions. It should have methods to create fractions, perform operations on two fractions, simplify a fraction, and print a fraction. You should use that package and illustrate those operations.```"
   ]
  },
  {
   "cell_type": "code",
   "execution_count": 20,
   "metadata": {},
   "outputs": [
    {
     "name": "stdout",
     "output_type": "stream",
     "text": [
      "0.5\n",
      "1.25\n",
      "-0.25\n",
      "0.375\n",
      "0.6666666666666666\n"
     ]
    }
   ],
   "source": [
    "import fraction as f\n",
    "print(f.fracdis(100,200))\n",
    "print(f.add(100,200,300,400))\n",
    "print(f.sub(100,200,300,400))      # user defined module fraction\n",
    "print(f.mul(100,200,300,400))\n",
    "print(f.div(100,200,300,400))"
   ]
  },
  {
   "cell_type": "markdown",
   "metadata": {},
   "source": [
    "```5. A permutation of a list is another list with the same elements, but in a possibly different order. For example, [1,2,1]         is a permutation of [2,1,1], but not of [1,2,2]. Write a functionisPermutation (list1, list2): boolthat returns True if         its arguments are permutations of each other.```"
   ]
  },
  {
   "cell_type": "code",
   "execution_count": 17,
   "metadata": {},
   "outputs": [
    {
     "name": "stdout",
     "output_type": "stream",
     "text": [
      "True\n"
     ]
    }
   ],
   "source": [
    "def ispermutation(l1,l2):\n",
    "    sum1 = sum(l1)\n",
    "    sum2 = sum(l2)\n",
    "    if sum1 == sum2:\n",
    "        return True\n",
    "    else:\n",
    "        return False\n",
    "l1 = [1,2,1]\n",
    "l2 = [1,1,2]\n",
    "print(ispermutation(l1,l2))"
   ]
  },
  {
   "cell_type": "code",
   "execution_count": null,
   "metadata": {},
   "outputs": [],
   "source": []
  }
 ],
 "metadata": {
  "kernelspec": {
   "display_name": "Python 3",
   "language": "python",
   "name": "python3"
  },
  "language_info": {
   "codemirror_mode": {
    "name": "ipython",
    "version": 3
   },
   "file_extension": ".py",
   "mimetype": "text/x-python",
   "name": "python",
   "nbconvert_exporter": "python",
   "pygments_lexer": "ipython3",
   "version": "3.7.4"
  }
 },
 "nbformat": 4,
 "nbformat_minor": 2
}
